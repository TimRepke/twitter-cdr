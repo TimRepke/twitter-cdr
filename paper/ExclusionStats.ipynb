{
 "cells": [
  {
   "cell_type": "code",
   "execution_count": 1,
   "outputs": [],
   "source": [
    "import pickle\n",
    "import datetime\n",
    "import pandas as pd"
   ],
   "metadata": {
    "collapsed": false,
    "ExecuteTime": {
     "end_time": "2023-06-06T13:40:09.095019370Z",
     "start_time": "2023-06-06T13:40:08.835001235Z"
    }
   }
  },
  {
   "cell_type": "code",
   "execution_count": 3,
   "metadata": {
    "collapsed": true,
    "ExecuteTime": {
     "end_time": "2023-06-06T13:40:31.666780453Z",
     "start_time": "2023-06-06T13:40:25.092526611Z"
    }
   },
   "outputs": [],
   "source": [
    "# Assumes `prepare_data.py` was already executed.\n",
    "with open('data/user_stats.pkl', 'rb') as f:\n",
    "    data = pickle.load(f)\n",
    "\n",
    "# Transform into dataframe\n",
    "df = pd.DataFrame([d.dict() for d in data])\n",
    "\n",
    "# Calculate tweets per day\n",
    "df['tpd'] = [\n",
    "    di['num_tweets'] / (datetime.datetime(2022, 12, 31, 23, 59, 59) - di['created_at']).days\n",
    "    for _, di in df.iterrows()\n",
    "]"
   ]
  },
  {
   "cell_type": "code",
   "execution_count": 5,
   "outputs": [
    {
     "data": {
      "text/plain": "     twitter_author_id        username  num_cdr_tweets  num_orig_cdr_tweets  \\\n0  1000002497363283969       netspring               8                    7   \n1            100001851   alqamaronline               1                    1   \n2            100001965       coolproof               1                    0   \n3  1000019775140126720     BL_Chemelot               4                    4   \n4            100002112  whyyradiotimes               1                    1   \n\n   num_cdr_tweets_noccs  num_orig_cdr_tweets_noccs  num_tweets  perc_orig  \\\n0                     8                          7        1634       87.5   \n1                     1                          1      239214      100.0   \n2                     1                          0       59707        0.0   \n3                     1                          1        2064      100.0   \n4                     0                          0       29100      100.0   \n\n   perc_cdr  tweet_count  ...    latest_cdr_tweet  earliest_cdr_tweet_noccs  \\\n0  0.489596         1634  ... 2020-08-14 09:45:14       2019-10-02 17:03:38   \n1  0.000418       239214  ... 2022-11-26 16:32:11       2022-11-26 16:32:11   \n2  0.001675        59707  ... 2014-09-25 16:49:27       2014-09-25 16:49:27   \n3  0.193798         2064  ... 2022-12-05 15:52:04       2021-07-14 12:15:00   \n4  0.003436        29100  ... 2018-11-30 15:40:00                       NaT   \n\n   latest_cdr_tweet_noccs   time_cdr_active  time_to_first_cdr  \\\n0     2020-08-14 09:45:14 316 days 16:41:36  495 days 03:47:49   \n1     2022-11-26 16:32:11   0 days 00:00:00 4715 days 23:04:10   \n2     2014-09-25 16:49:27   0 days 00:00:00 1731 days 23:20:55   \n3     2021-07-14 12:15:00 509 days 03:37:04 1145 days 21:50:32   \n4                     NaT   0 days 00:00:00 3258 days 22:10:49   \n\n           created_at verified  \\\n0 2018-05-25 13:15:49    False   \n1 2009-12-28 17:28:01    False   \n2 2009-12-28 17:28:32    False   \n3 2018-05-25 14:24:28    False   \n4 2009-12-28 17:29:11    False   \n\n                                         description  \\\n0  Through Green IT Classrooms and e-waste reduct...   \n1                                                      \n2  Self-reliance is interpreted as an isolationis...   \n3  Brightlands Chemelot Campus boosts innovation ...   \n4  Official Twitter for 35 years of Radio Times o...   \n\n                                        technologies  \\\n0  {'Methane Removal': 0, 'CCS': 0, 'Ocean Fertil...   \n1  {'Methane Removal': 0, 'CCS': 0, 'Ocean Fertil...   \n2  {'Methane Removal': 0, 'CCS': 0, 'Ocean Fertil...   \n3  {'Methane Removal': 0, 'CCS': 3, 'Ocean Fertil...   \n4  {'Methane Removal': 0, 'CCS': 1, 'Ocean Fertil...   \n\n                                     sentiments  \n0  {'Negative': 2, 'Neutral': 6, 'Positive': 0}  \n1  {'Negative': 0, 'Neutral': 1, 'Positive': 0}  \n2  {'Negative': 0, 'Neutral': 0, 'Positive': 1}  \n3  {'Negative': 0, 'Neutral': 2, 'Positive': 2}  \n4  {'Negative': 0, 'Neutral': 1, 'Positive': 0}  \n\n[5 rows x 26 columns]",
      "text/html": "<div>\n<style scoped>\n    .dataframe tbody tr th:only-of-type {\n        vertical-align: middle;\n    }\n\n    .dataframe tbody tr th {\n        vertical-align: top;\n    }\n\n    .dataframe thead th {\n        text-align: right;\n    }\n</style>\n<table border=\"1\" class=\"dataframe\">\n  <thead>\n    <tr style=\"text-align: right;\">\n      <th></th>\n      <th>twitter_author_id</th>\n      <th>username</th>\n      <th>num_cdr_tweets</th>\n      <th>num_orig_cdr_tweets</th>\n      <th>num_cdr_tweets_noccs</th>\n      <th>num_orig_cdr_tweets_noccs</th>\n      <th>num_tweets</th>\n      <th>perc_orig</th>\n      <th>perc_cdr</th>\n      <th>tweet_count</th>\n      <th>...</th>\n      <th>latest_cdr_tweet</th>\n      <th>earliest_cdr_tweet_noccs</th>\n      <th>latest_cdr_tweet_noccs</th>\n      <th>time_cdr_active</th>\n      <th>time_to_first_cdr</th>\n      <th>created_at</th>\n      <th>verified</th>\n      <th>description</th>\n      <th>technologies</th>\n      <th>sentiments</th>\n    </tr>\n  </thead>\n  <tbody>\n    <tr>\n      <th>0</th>\n      <td>1000002497363283969</td>\n      <td>netspring</td>\n      <td>8</td>\n      <td>7</td>\n      <td>8</td>\n      <td>7</td>\n      <td>1634</td>\n      <td>87.5</td>\n      <td>0.489596</td>\n      <td>1634</td>\n      <td>...</td>\n      <td>2020-08-14 09:45:14</td>\n      <td>2019-10-02 17:03:38</td>\n      <td>2020-08-14 09:45:14</td>\n      <td>316 days 16:41:36</td>\n      <td>495 days 03:47:49</td>\n      <td>2018-05-25 13:15:49</td>\n      <td>False</td>\n      <td>Through Green IT Classrooms and e-waste reduct...</td>\n      <td>{'Methane Removal': 0, 'CCS': 0, 'Ocean Fertil...</td>\n      <td>{'Negative': 2, 'Neutral': 6, 'Positive': 0}</td>\n    </tr>\n    <tr>\n      <th>1</th>\n      <td>100001851</td>\n      <td>alqamaronline</td>\n      <td>1</td>\n      <td>1</td>\n      <td>1</td>\n      <td>1</td>\n      <td>239214</td>\n      <td>100.0</td>\n      <td>0.000418</td>\n      <td>239214</td>\n      <td>...</td>\n      <td>2022-11-26 16:32:11</td>\n      <td>2022-11-26 16:32:11</td>\n      <td>2022-11-26 16:32:11</td>\n      <td>0 days 00:00:00</td>\n      <td>4715 days 23:04:10</td>\n      <td>2009-12-28 17:28:01</td>\n      <td>False</td>\n      <td></td>\n      <td>{'Methane Removal': 0, 'CCS': 0, 'Ocean Fertil...</td>\n      <td>{'Negative': 0, 'Neutral': 1, 'Positive': 0}</td>\n    </tr>\n    <tr>\n      <th>2</th>\n      <td>100001965</td>\n      <td>coolproof</td>\n      <td>1</td>\n      <td>0</td>\n      <td>1</td>\n      <td>0</td>\n      <td>59707</td>\n      <td>0.0</td>\n      <td>0.001675</td>\n      <td>59707</td>\n      <td>...</td>\n      <td>2014-09-25 16:49:27</td>\n      <td>2014-09-25 16:49:27</td>\n      <td>2014-09-25 16:49:27</td>\n      <td>0 days 00:00:00</td>\n      <td>1731 days 23:20:55</td>\n      <td>2009-12-28 17:28:32</td>\n      <td>False</td>\n      <td>Self-reliance is interpreted as an isolationis...</td>\n      <td>{'Methane Removal': 0, 'CCS': 0, 'Ocean Fertil...</td>\n      <td>{'Negative': 0, 'Neutral': 0, 'Positive': 1}</td>\n    </tr>\n    <tr>\n      <th>3</th>\n      <td>1000019775140126720</td>\n      <td>BL_Chemelot</td>\n      <td>4</td>\n      <td>4</td>\n      <td>1</td>\n      <td>1</td>\n      <td>2064</td>\n      <td>100.0</td>\n      <td>0.193798</td>\n      <td>2064</td>\n      <td>...</td>\n      <td>2022-12-05 15:52:04</td>\n      <td>2021-07-14 12:15:00</td>\n      <td>2021-07-14 12:15:00</td>\n      <td>509 days 03:37:04</td>\n      <td>1145 days 21:50:32</td>\n      <td>2018-05-25 14:24:28</td>\n      <td>False</td>\n      <td>Brightlands Chemelot Campus boosts innovation ...</td>\n      <td>{'Methane Removal': 0, 'CCS': 3, 'Ocean Fertil...</td>\n      <td>{'Negative': 0, 'Neutral': 2, 'Positive': 2}</td>\n    </tr>\n    <tr>\n      <th>4</th>\n      <td>100002112</td>\n      <td>whyyradiotimes</td>\n      <td>1</td>\n      <td>1</td>\n      <td>0</td>\n      <td>0</td>\n      <td>29100</td>\n      <td>100.0</td>\n      <td>0.003436</td>\n      <td>29100</td>\n      <td>...</td>\n      <td>2018-11-30 15:40:00</td>\n      <td>NaT</td>\n      <td>NaT</td>\n      <td>0 days 00:00:00</td>\n      <td>3258 days 22:10:49</td>\n      <td>2009-12-28 17:29:11</td>\n      <td>False</td>\n      <td>Official Twitter for 35 years of Radio Times o...</td>\n      <td>{'Methane Removal': 0, 'CCS': 1, 'Ocean Fertil...</td>\n      <td>{'Negative': 0, 'Neutral': 1, 'Positive': 0}</td>\n    </tr>\n  </tbody>\n</table>\n<p>5 rows × 26 columns</p>\n</div>"
     },
     "execution_count": 5,
     "metadata": {},
     "output_type": "execute_result"
    }
   ],
   "source": [
    "# Peek\n",
    "df.head()"
   ],
   "metadata": {
    "collapsed": false,
    "ExecuteTime": {
     "end_time": "2023-06-06T13:41:17.436171611Z",
     "start_time": "2023-06-06T13:41:02.125478260Z"
    }
   }
  },
  {
   "cell_type": "code",
   "execution_count": 17,
   "outputs": [
    {
     "name": "stdout",
     "output_type": "stream",
     "text": [
      "There are 2,961 / 235,025 (1.26%) users with more than 100 tweets per day.\n",
      "  -> This excludes 22,916 / 763,800 (3.00%) CDR tweets\n",
      "  -> This excludes 17,076 / 569,103 (3.00%) CDR (excl. CCS/MR) tweets\n"
     ]
    }
   ],
   "source": [
    "print(f\"There are {sum(df['tpd'] > 100):,} / {df.shape[0]:,} ({sum(df['tpd'] > 100) / df.shape[0]:.2%}) \"\n",
    "      f\"users with more than 100 tweets per day.\")\n",
    "\n",
    "a = df[df['tpd'] > 100]['num_cdr_tweets'].sum()\n",
    "b = df['num_cdr_tweets'].sum()\n",
    "print(f\"  -> This excludes {a:,} / {b:,} ({a / b:.2%}) CDR tweets\")\n",
    "a = df[df['tpd'] > 100]['num_cdr_tweets_noccs'].sum()\n",
    "b = df['num_cdr_tweets_noccs'].sum()\n",
    "print(f\"  -> This excludes {a:,} / {b:,} ({a / b:.2%}) CDR (excl. CCS/MR) tweets\")"
   ],
   "metadata": {
    "collapsed": false,
    "ExecuteTime": {
     "end_time": "2023-06-06T13:53:43.806197990Z",
     "start_time": "2023-06-06T13:53:43.761964208Z"
    }
   }
  },
  {
   "cell_type": "code",
   "execution_count": 13,
   "outputs": [
    {
     "data": {
      "text/plain": "235025"
     },
     "execution_count": 13,
     "metadata": {},
     "output_type": "execute_result"
    }
   ],
   "source": [
    "df.shape[0]"
   ],
   "metadata": {
    "collapsed": false,
    "ExecuteTime": {
     "end_time": "2023-06-06T13:50:08.838385207Z",
     "start_time": "2023-06-06T13:50:08.829558675Z"
    }
   }
  }
 ],
 "metadata": {
  "kernelspec": {
   "display_name": "Python 3",
   "language": "python",
   "name": "python3"
  },
  "language_info": {
   "codemirror_mode": {
    "name": "ipython",
    "version": 2
   },
   "file_extension": ".py",
   "mimetype": "text/x-python",
   "name": "python",
   "nbconvert_exporter": "python",
   "pygments_lexer": "ipython2",
   "version": "2.7.6"
  }
 },
 "nbformat": 4,
 "nbformat_minor": 0
}
