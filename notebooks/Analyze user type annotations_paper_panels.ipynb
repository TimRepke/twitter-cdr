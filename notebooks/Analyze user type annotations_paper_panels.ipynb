{
 "cells": [
  {
   "cell_type": "code",
   "execution_count": 2,
   "id": "d1b3ac3b",
   "metadata": {},
   "outputs": [],
   "source": [
    "import numpy as np\n",
    "import pandas as pd\n",
    "import seaborn as sn\n",
    "import matplotlib.pyplot as plt"
   ]
  },
  {
   "cell_type": "markdown",
   "id": "d40d4300",
   "metadata": {},
   "source": [
    "## Import and compare different panels"
   ]
  },
  {
   "cell_type": "code",
   "execution_count": 3,
   "id": "4ff6d7fc",
   "metadata": {
    "scrolled": false
   },
   "outputs": [],
   "source": [
    "user_all = []\n",
    "for panel_name in ['A', 'B', 'C']:\n",
    "    user_data = pd.read_excel('user-type-annotations/random_sample_users_panel{}_annotated_FMH.xlsx'.format(panel_name), index_col=0)\n",
    "    user_all.append(user_data)\n",
    "\n",
    "user_all = pd.concat(user_all)"
   ]
  },
  {
   "cell_type": "code",
   "execution_count": 29,
   "id": "6f6d6fbb",
   "metadata": {},
   "outputs": [
    {
     "data": {
      "text/html": [
       "<div>\n",
       "<style scoped>\n",
       "    .dataframe tbody tr th:only-of-type {\n",
       "        vertical-align: middle;\n",
       "    }\n",
       "\n",
       "    .dataframe tbody tr th {\n",
       "        vertical-align: top;\n",
       "    }\n",
       "\n",
       "    .dataframe thead th {\n",
       "        text-align: right;\n",
       "    }\n",
       "</style>\n",
       "<table border=\"1\" class=\"dataframe\">\n",
       "  <thead>\n",
       "    <tr style=\"text-align: right;\">\n",
       "      <th>panel</th>\n",
       "      <th>A</th>\n",
       "      <th>B</th>\n",
       "      <th>C</th>\n",
       "      <th>total_share</th>\n",
       "    </tr>\n",
       "    <tr>\n",
       "      <th>user type</th>\n",
       "      <th></th>\n",
       "      <th></th>\n",
       "      <th></th>\n",
       "      <th></th>\n",
       "    </tr>\n",
       "  </thead>\n",
       "  <tbody>\n",
       "    <tr>\n",
       "      <th>business</th>\n",
       "      <td>26</td>\n",
       "      <td>21</td>\n",
       "      <td>26</td>\n",
       "      <td>24.333333</td>\n",
       "    </tr>\n",
       "    <tr>\n",
       "      <th>journalism</th>\n",
       "      <td>14</td>\n",
       "      <td>12</td>\n",
       "      <td>16</td>\n",
       "      <td>14.000000</td>\n",
       "    </tr>\n",
       "    <tr>\n",
       "      <th>ngo</th>\n",
       "      <td>5</td>\n",
       "      <td>19</td>\n",
       "      <td>15</td>\n",
       "      <td>13.000000</td>\n",
       "    </tr>\n",
       "    <tr>\n",
       "      <th>other</th>\n",
       "      <td>1</td>\n",
       "      <td>3</td>\n",
       "      <td>2</td>\n",
       "      <td>2.000000</td>\n",
       "    </tr>\n",
       "    <tr>\n",
       "      <th>policy</th>\n",
       "      <td>2</td>\n",
       "      <td>3</td>\n",
       "      <td>6</td>\n",
       "      <td>3.666667</td>\n",
       "    </tr>\n",
       "    <tr>\n",
       "      <th>private</th>\n",
       "      <td>14</td>\n",
       "      <td>17</td>\n",
       "      <td>4</td>\n",
       "      <td>11.666667</td>\n",
       "    </tr>\n",
       "    <tr>\n",
       "      <th>science</th>\n",
       "      <td>8</td>\n",
       "      <td>12</td>\n",
       "      <td>17</td>\n",
       "      <td>12.333333</td>\n",
       "    </tr>\n",
       "    <tr>\n",
       "      <th>unclear</th>\n",
       "      <td>30</td>\n",
       "      <td>13</td>\n",
       "      <td>14</td>\n",
       "      <td>19.000000</td>\n",
       "    </tr>\n",
       "  </tbody>\n",
       "</table>\n",
       "</div>"
      ],
      "text/plain": [
       "panel        A   B   C  total_share\n",
       "user type                          \n",
       "business    26  21  26    24.333333\n",
       "journalism  14  12  16    14.000000\n",
       "ngo          5  19  15    13.000000\n",
       "other        1   3   2     2.000000\n",
       "policy       2   3   6     3.666667\n",
       "private     14  17   4    11.666667\n",
       "science      8  12  17    12.333333\n",
       "unclear     30  13  14    19.000000"
      ]
     },
     "execution_count": 29,
     "metadata": {},
     "output_type": "execute_result"
    }
   ],
   "source": [
    "user_vc = user_all.groupby('panel')['user type'].value_counts().unstack().transpose()\n",
    "user_vc['total_share'] = 100 * user_vc.sum(axis=1) / user_vc.sum().sum()\n",
    "user_vc"
   ]
  },
  {
   "cell_type": "code",
   "execution_count": 33,
   "id": "3dc004aa",
   "metadata": {},
   "outputs": [
    {
     "data": {
      "text/plain": [
       "<AxesSubplot:xlabel='panel'>"
      ]
     },
     "execution_count": 33,
     "metadata": {},
     "output_type": "execute_result"
    },
    {
     "data": {
      "image/png": "[encoded data removed]",
      "text/plain": [
       "<Figure size 640x480 with 1 Axes>"
      ]
     },
     "metadata": {},
     "output_type": "display_data"
    }
   ],
   "source": [
    "user_vc[['A', 'B', 'C']].transpose().plot()"
   ]
  },
  {
   "cell_type": "code",
   "execution_count": 6,
   "id": "6cef0469",
   "metadata": {},
   "outputs": [
    {
     "data": {
      "text/plain": [
       "ngo         9\n",
       "science     6\n",
       "business    6\n",
       "private     5\n",
       "policy      1\n",
       "other       1\n",
       "Name: second user type, dtype: int64"
      ]
     },
     "execution_count": 6,
     "metadata": {},
     "output_type": "execute_result"
    }
   ],
   "source": [
    "user_all['second user type'].value_counts()"
   ]
  },
  {
   "cell_type": "code",
   "execution_count": 7,
   "id": "23a17e44",
   "metadata": {},
   "outputs": [
    {
     "data": {
      "text/plain": [
       "user type\n",
       "business      53.917808\n",
       "journalism    53.666667\n",
       "ngo           43.358974\n",
       "other         30.500000\n",
       "policy        51.909091\n",
       "private       14.542857\n",
       "science       58.918919\n",
       "unclear       26.052632\n",
       "Name: n_cdr_tweets, dtype: float64"
      ]
     },
     "execution_count": 7,
     "metadata": {},
     "output_type": "execute_result"
    }
   ],
   "source": [
    "user_all.groupby('user type')['n_cdr_tweets'].mean()"
   ]
  },
  {
   "cell_type": "markdown",
   "id": "c0fa6b9e",
   "metadata": {},
   "source": [
    "### Compare with Tim's annotations"
   ]
  },
  {
   "cell_type": "code",
   "execution_count": 8,
   "id": "290ae119",
   "metadata": {},
   "outputs": [],
   "source": [
    "user_all2 = []\n",
    "for panel_name in ['A', 'B', 'C']:\n",
    "    user_data = pd.read_excel('user-type-annotations/random_sample_users_panel{}_annotated_TR.xlsx'.format(panel_name), index_col=0)\n",
    "    user_all2.append(user_data)\n",
    "\n",
    "user_all2 = pd.concat(user_all2)"
   ]
  },
  {
   "cell_type": "code",
   "execution_count": 30,
   "id": "8647d6a9",
   "metadata": {},
   "outputs": [
    {
     "data": {
      "text/html": [
       "<div>\n",
       "<style scoped>\n",
       "    .dataframe tbody tr th:only-of-type {\n",
       "        vertical-align: middle;\n",
       "    }\n",
       "\n",
       "    .dataframe tbody tr th {\n",
       "        vertical-align: top;\n",
       "    }\n",
       "\n",
       "    .dataframe thead th {\n",
       "        text-align: right;\n",
       "    }\n",
       "</style>\n",
       "<table border=\"1\" class=\"dataframe\">\n",
       "  <thead>\n",
       "    <tr style=\"text-align: right;\">\n",
       "      <th>panel</th>\n",
       "      <th>A</th>\n",
       "      <th>B</th>\n",
       "      <th>C</th>\n",
       "      <th>total_share</th>\n",
       "    </tr>\n",
       "    <tr>\n",
       "      <th>user type</th>\n",
       "      <th></th>\n",
       "      <th></th>\n",
       "      <th></th>\n",
       "      <th></th>\n",
       "    </tr>\n",
       "  </thead>\n",
       "  <tbody>\n",
       "    <tr>\n",
       "      <th>business</th>\n",
       "      <td>19</td>\n",
       "      <td>14</td>\n",
       "      <td>13</td>\n",
       "      <td>15.333333</td>\n",
       "    </tr>\n",
       "    <tr>\n",
       "      <th>journalism</th>\n",
       "      <td>7</td>\n",
       "      <td>7</td>\n",
       "      <td>12</td>\n",
       "      <td>8.666667</td>\n",
       "    </tr>\n",
       "    <tr>\n",
       "      <th>ngo</th>\n",
       "      <td>6</td>\n",
       "      <td>14</td>\n",
       "      <td>14</td>\n",
       "      <td>11.333333</td>\n",
       "    </tr>\n",
       "    <tr>\n",
       "      <th>other</th>\n",
       "      <td>6</td>\n",
       "      <td>3</td>\n",
       "      <td>4</td>\n",
       "      <td>4.333333</td>\n",
       "    </tr>\n",
       "    <tr>\n",
       "      <th>policy</th>\n",
       "      <td>1</td>\n",
       "      <td>1</td>\n",
       "      <td>5</td>\n",
       "      <td>2.333333</td>\n",
       "    </tr>\n",
       "    <tr>\n",
       "      <th>private</th>\n",
       "      <td>32</td>\n",
       "      <td>32</td>\n",
       "      <td>28</td>\n",
       "      <td>30.666667</td>\n",
       "    </tr>\n",
       "    <tr>\n",
       "      <th>science</th>\n",
       "      <td>6</td>\n",
       "      <td>9</td>\n",
       "      <td>15</td>\n",
       "      <td>10.000000</td>\n",
       "    </tr>\n",
       "    <tr>\n",
       "      <th>unclear</th>\n",
       "      <td>23</td>\n",
       "      <td>20</td>\n",
       "      <td>9</td>\n",
       "      <td>17.333333</td>\n",
       "    </tr>\n",
       "  </tbody>\n",
       "</table>\n",
       "</div>"
      ],
      "text/plain": [
       "panel        A   B   C  total_share\n",
       "user type                          \n",
       "business    19  14  13    15.333333\n",
       "journalism   7   7  12     8.666667\n",
       "ngo          6  14  14    11.333333\n",
       "other        6   3   4     4.333333\n",
       "policy       1   1   5     2.333333\n",
       "private     32  32  28    30.666667\n",
       "science      6   9  15    10.000000\n",
       "unclear     23  20   9    17.333333"
      ]
     },
     "execution_count": 30,
     "metadata": {},
     "output_type": "execute_result"
    }
   ],
   "source": [
    "user_vc2 = user_all2.groupby('panel')['user type'].value_counts().unstack().transpose()\n",
    "user_vc2['total_share'] = 100 * user_vc2.sum(axis=1) / user_vc2.sum().sum()\n",
    "user_vc2"
   ]
  },
  {
   "cell_type": "code",
   "execution_count": 32,
   "id": "87131364",
   "metadata": {},
   "outputs": [
    {
     "data": {
      "text/plain": [
       "<AxesSubplot:xlabel='panel'>"
      ]
     },
     "execution_count": 32,
     "metadata": {},
     "output_type": "execute_result"
    },
    {
     "data": {
      "image/png": "[encoded data removed]",
      "text/plain": [
       "<Figure size 640x480 with 1 Axes>"
      ]
     },
     "metadata": {},
     "output_type": "display_data"
    }
   ],
   "source": [
    "user_vc2[['A', 'B', 'C']].transpose().plot()"
   ]
  },
  {
   "cell_type": "code",
   "execution_count": 36,
   "id": "81f073ca",
   "metadata": {},
   "outputs": [
    {
     "data": {
      "text/html": [
       "<div>\n",
       "<style scoped>\n",
       "    .dataframe tbody tr th:only-of-type {\n",
       "        vertical-align: middle;\n",
       "    }\n",
       "\n",
       "    .dataframe tbody tr th {\n",
       "        vertical-align: top;\n",
       "    }\n",
       "\n",
       "    .dataframe thead th {\n",
       "        text-align: right;\n",
       "    }\n",
       "</style>\n",
       "<table border=\"1\" class=\"dataframe\">\n",
       "  <thead>\n",
       "    <tr style=\"text-align: right;\">\n",
       "      <th></th>\n",
       "      <th>total_share</th>\n",
       "      <th>total_share</th>\n",
       "    </tr>\n",
       "    <tr>\n",
       "      <th>user type</th>\n",
       "      <th></th>\n",
       "      <th></th>\n",
       "    </tr>\n",
       "  </thead>\n",
       "  <tbody>\n",
       "    <tr>\n",
       "      <th>business</th>\n",
       "      <td>24.333333</td>\n",
       "      <td>15.333333</td>\n",
       "    </tr>\n",
       "    <tr>\n",
       "      <th>journalism</th>\n",
       "      <td>14.000000</td>\n",
       "      <td>8.666667</td>\n",
       "    </tr>\n",
       "    <tr>\n",
       "      <th>ngo</th>\n",
       "      <td>13.000000</td>\n",
       "      <td>11.333333</td>\n",
       "    </tr>\n",
       "    <tr>\n",
       "      <th>other</th>\n",
       "      <td>2.000000</td>\n",
       "      <td>4.333333</td>\n",
       "    </tr>\n",
       "    <tr>\n",
       "      <th>policy</th>\n",
       "      <td>3.666667</td>\n",
       "      <td>2.333333</td>\n",
       "    </tr>\n",
       "    <tr>\n",
       "      <th>private</th>\n",
       "      <td>11.666667</td>\n",
       "      <td>30.666667</td>\n",
       "    </tr>\n",
       "    <tr>\n",
       "      <th>science</th>\n",
       "      <td>12.333333</td>\n",
       "      <td>10.000000</td>\n",
       "    </tr>\n",
       "    <tr>\n",
       "      <th>unclear</th>\n",
       "      <td>19.000000</td>\n",
       "      <td>17.333333</td>\n",
       "    </tr>\n",
       "  </tbody>\n",
       "</table>\n",
       "</div>"
      ],
      "text/plain": [
       "            total_share  total_share\n",
       "user type                           \n",
       "business      24.333333    15.333333\n",
       "journalism    14.000000     8.666667\n",
       "ngo           13.000000    11.333333\n",
       "other          2.000000     4.333333\n",
       "policy         3.666667     2.333333\n",
       "private       11.666667    30.666667\n",
       "science       12.333333    10.000000\n",
       "unclear       19.000000    17.333333"
      ]
     },
     "execution_count": 36,
     "metadata": {},
     "output_type": "execute_result"
    }
   ],
   "source": [
    "# compare total shares\n",
    "pd.concat([user_vc['total_share'], user_vc2['total_share']], axis=1)"
   ]
  },
  {
   "cell_type": "code",
   "execution_count": 12,
   "id": "7ae62cf0",
   "metadata": {},
   "outputs": [
    {
     "data": {
      "text/plain": [
       "<AxesSubplot:xlabel='Tim', ylabel='Finn'>"
      ]
     },
     "execution_count": 12,
     "metadata": {},
     "output_type": "execute_result"
    },
    {
     "data": {
      "image/png": "[encoded data removed]",
      "text/plain": [
       "<Figure size 640x480 with 2 Axes>"
      ]
     },
     "metadata": {},
     "output_type": "display_data"
    }
   ],
   "source": [
    "# compare one by one\n",
    "\n",
    "comp = pd.merge(user_all, user_all2[['twitter_author_id', 'user type', 'second user type', 'note']], on='twitter_author_id')\n",
    "\n",
    "confusion_matrix = pd.crosstab(comp['user type_x'], comp['user type_y'], rownames=['Finn'], colnames=['Tim'])\n",
    "\n",
    "sn.heatmap(confusion_matrix, annot=True)\n",
    "#plt.savefig('user-type-annotations/annotation_comparison_panelABC_FMH_TR.png', bbox_inches='tight')"
   ]
  },
  {
   "cell_type": "code",
   "execution_count": 13,
   "id": "2f7818ec",
   "metadata": {},
   "outputs": [],
   "source": [
    "comp['match on first'] = 0\n",
    "comp['match on second'] = 0"
   ]
  },
  {
   "cell_type": "code",
   "execution_count": 14,
   "id": "7d93012e",
   "metadata": {},
   "outputs": [
    {
     "data": {
      "text/plain": [
       "183"
      ]
     },
     "execution_count": 14,
     "metadata": {},
     "output_type": "execute_result"
    }
   ],
   "source": [
    "comp.loc[comp['user type_x'] == comp['user type_y'], 'match on first'] = 1\n",
    "comp['match on first'].sum()"
   ]
  },
  {
   "cell_type": "code",
   "execution_count": 15,
   "id": "22aa53e1",
   "metadata": {},
   "outputs": [
    {
     "data": {
      "text/plain": [
       "215"
      ]
     },
     "execution_count": 15,
     "metadata": {},
     "output_type": "execute_result"
    }
   ],
   "source": [
    "comp.loc[(comp['user type_x'] == comp['user type_y']) |\n",
    "         (comp['second user type_x'] == comp['user type_y']) |\n",
    "         (comp['second user type_x'] == comp['second user type_y']) |\n",
    "         (comp['user type_x'] == comp['second user type_y'])\n",
    "         , 'match on second'] = 1\n",
    "comp['match on second'].sum()"
   ]
  },
  {
   "cell_type": "code",
   "execution_count": 16,
   "id": "a3bae95a",
   "metadata": {},
   "outputs": [
    {
     "data": {
      "text/html": [
       "<div>\n",
       "<style scoped>\n",
       "    .dataframe tbody tr th:only-of-type {\n",
       "        vertical-align: middle;\n",
       "    }\n",
       "\n",
       "    .dataframe tbody tr th {\n",
       "        vertical-align: top;\n",
       "    }\n",
       "\n",
       "    .dataframe thead th {\n",
       "        text-align: right;\n",
       "    }\n",
       "</style>\n",
       "<table border=\"1\" class=\"dataframe\">\n",
       "  <thead>\n",
       "    <tr style=\"text-align: right;\">\n",
       "      <th></th>\n",
       "      <th>twitter_author_id</th>\n",
       "      <th>name</th>\n",
       "      <th>username</th>\n",
       "      <th>user_location</th>\n",
       "      <th>verified</th>\n",
       "      <th>description</th>\n",
       "      <th>n_tweets</th>\n",
       "      <th>n_cdr_tweets</th>\n",
       "      <th>panel</th>\n",
       "      <th>user type_x</th>\n",
       "      <th>second user type_x</th>\n",
       "      <th>note_x</th>\n",
       "      <th>user type_y</th>\n",
       "      <th>second user type_y</th>\n",
       "      <th>note_y</th>\n",
       "      <th>match on first</th>\n",
       "      <th>match on second</th>\n",
       "    </tr>\n",
       "  </thead>\n",
       "  <tbody>\n",
       "    <tr>\n",
       "      <th>13</th>\n",
       "      <td>720013724115861504</td>\n",
       "      <td>William Casey - Casey Beef LLC</td>\n",
       "      <td>Caseyag1</td>\n",
       "      <td>St. Paul, KS</td>\n",
       "      <td>0</td>\n",
       "      <td>It isn’t always being fast, or even accurate, ...</td>\n",
       "      <td>15290</td>\n",
       "      <td>1</td>\n",
       "      <td>A</td>\n",
       "      <td>business</td>\n",
       "      <td>NaN</td>\n",
       "      <td>NaN</td>\n",
       "      <td>unclear</td>\n",
       "      <td>NaN</td>\n",
       "      <td>NaN</td>\n",
       "      <td>0</td>\n",
       "      <td>0</td>\n",
       "    </tr>\n",
       "    <tr>\n",
       "      <th>15</th>\n",
       "      <td>16877302</td>\n",
       "      <td>Dan Pontarlier</td>\n",
       "      <td>danpontarlier</td>\n",
       "      <td>Paris, France</td>\n",
       "      <td>0</td>\n",
       "      <td>I’m here to vent &amp; clapback in 7 languages 🌬 •...</td>\n",
       "      <td>64752</td>\n",
       "      <td>2</td>\n",
       "      <td>A</td>\n",
       "      <td>journalism</td>\n",
       "      <td>NaN</td>\n",
       "      <td>NaN</td>\n",
       "      <td>private</td>\n",
       "      <td>NaN</td>\n",
       "      <td>NaN</td>\n",
       "      <td>0</td>\n",
       "      <td>0</td>\n",
       "    </tr>\n",
       "    <tr>\n",
       "      <th>16</th>\n",
       "      <td>2975823401</td>\n",
       "      <td>NaN</td>\n",
       "      <td>simsa0</td>\n",
       "      <td>NaN</td>\n",
       "      <td>0</td>\n",
       "      <td>I am a dishwasher, cleaner, lavatory attendant...</td>\n",
       "      <td>7995</td>\n",
       "      <td>2</td>\n",
       "      <td>A</td>\n",
       "      <td>unclear</td>\n",
       "      <td>NaN</td>\n",
       "      <td>NaN</td>\n",
       "      <td>private</td>\n",
       "      <td>NaN</td>\n",
       "      <td>NaN</td>\n",
       "      <td>0</td>\n",
       "      <td>0</td>\n",
       "    </tr>\n",
       "    <tr>\n",
       "      <th>20</th>\n",
       "      <td>144437348</td>\n",
       "      <td>Nikhil Bose</td>\n",
       "      <td>NikzB</td>\n",
       "      <td>India</td>\n",
       "      <td>0</td>\n",
       "      <td>Bringing back the permanence to agriculture in...</td>\n",
       "      <td>1216</td>\n",
       "      <td>1</td>\n",
       "      <td>A</td>\n",
       "      <td>private</td>\n",
       "      <td>NaN</td>\n",
       "      <td>NaN</td>\n",
       "      <td>unclear</td>\n",
       "      <td>NaN</td>\n",
       "      <td>NaN</td>\n",
       "      <td>0</td>\n",
       "      <td>0</td>\n",
       "    </tr>\n",
       "    <tr>\n",
       "      <th>23</th>\n",
       "      <td>1117113255581949957</td>\n",
       "      <td>Deirdre Kincaid</td>\n",
       "      <td>DeirdreKincai15</td>\n",
       "      <td>NaN</td>\n",
       "      <td>0</td>\n",
       "      <td>Actor, egghead and knitter</td>\n",
       "      <td>35</td>\n",
       "      <td>1</td>\n",
       "      <td>A</td>\n",
       "      <td>private</td>\n",
       "      <td>NaN</td>\n",
       "      <td>NaN</td>\n",
       "      <td>other</td>\n",
       "      <td>NaN</td>\n",
       "      <td>NaN</td>\n",
       "      <td>0</td>\n",
       "      <td>0</td>\n",
       "    </tr>\n",
       "    <tr>\n",
       "      <th>...</th>\n",
       "      <td>...</td>\n",
       "      <td>...</td>\n",
       "      <td>...</td>\n",
       "      <td>...</td>\n",
       "      <td>...</td>\n",
       "      <td>...</td>\n",
       "      <td>...</td>\n",
       "      <td>...</td>\n",
       "      <td>...</td>\n",
       "      <td>...</td>\n",
       "      <td>...</td>\n",
       "      <td>...</td>\n",
       "      <td>...</td>\n",
       "      <td>...</td>\n",
       "      <td>...</td>\n",
       "      <td>...</td>\n",
       "      <td>...</td>\n",
       "    </tr>\n",
       "    <tr>\n",
       "      <th>291</th>\n",
       "      <td>24233902</td>\n",
       "      <td>National Forest Fdn.</td>\n",
       "      <td>NationalForests</td>\n",
       "      <td>Missoula, MT</td>\n",
       "      <td>1</td>\n",
       "      <td>We work with the U.S. Forest Service and thous...</td>\n",
       "      <td>33741</td>\n",
       "      <td>66</td>\n",
       "      <td>C</td>\n",
       "      <td>policy</td>\n",
       "      <td>NaN</td>\n",
       "      <td>NaN</td>\n",
       "      <td>ngo</td>\n",
       "      <td>NaN</td>\n",
       "      <td>NaN</td>\n",
       "      <td>0</td>\n",
       "      <td>0</td>\n",
       "    </tr>\n",
       "    <tr>\n",
       "      <th>296</th>\n",
       "      <td>260181868</td>\n",
       "      <td>Natasha</td>\n",
       "      <td>GAPSyndrome</td>\n",
       "      <td>UK</td>\n",
       "      <td>0</td>\n",
       "      <td>Gut and Psychology Syndrome (GAPS) - Natural t...</td>\n",
       "      <td>17992</td>\n",
       "      <td>66</td>\n",
       "      <td>C</td>\n",
       "      <td>unclear</td>\n",
       "      <td>NaN</td>\n",
       "      <td>NaN</td>\n",
       "      <td>other</td>\n",
       "      <td>NaN</td>\n",
       "      <td>NaN</td>\n",
       "      <td>0</td>\n",
       "      <td>0</td>\n",
       "    </tr>\n",
       "    <tr>\n",
       "      <th>297</th>\n",
       "      <td>571748492</td>\n",
       "      <td>Ronald Chanthunya</td>\n",
       "      <td>RonaldChanthuny</td>\n",
       "      <td>Malawi</td>\n",
       "      <td>0</td>\n",
       "      <td>Executive Director, Philadephia Foundation Mal...</td>\n",
       "      <td>369</td>\n",
       "      <td>57</td>\n",
       "      <td>C</td>\n",
       "      <td>ngo</td>\n",
       "      <td>NaN</td>\n",
       "      <td>NaN</td>\n",
       "      <td>private</td>\n",
       "      <td>NaN</td>\n",
       "      <td>NaN</td>\n",
       "      <td>0</td>\n",
       "      <td>0</td>\n",
       "    </tr>\n",
       "    <tr>\n",
       "      <th>298</th>\n",
       "      <td>181912222</td>\n",
       "      <td>Leo Hickman</td>\n",
       "      <td>LeoHickman</td>\n",
       "      <td>NaN</td>\n",
       "      <td>1</td>\n",
       "      <td>Director/editor of @CarbonBrief. Served 16 yea...</td>\n",
       "      <td>58759</td>\n",
       "      <td>83</td>\n",
       "      <td>C</td>\n",
       "      <td>journalism</td>\n",
       "      <td>NaN</td>\n",
       "      <td>NaN</td>\n",
       "      <td>science</td>\n",
       "      <td>NaN</td>\n",
       "      <td>NaN</td>\n",
       "      <td>0</td>\n",
       "      <td>0</td>\n",
       "    </tr>\n",
       "    <tr>\n",
       "      <th>299</th>\n",
       "      <td>1265123701814517762</td>\n",
       "      <td>Terraformation</td>\n",
       "      <td>TF_Global</td>\n",
       "      <td>NaN</td>\n",
       "      <td>0</td>\n",
       "      <td>Restoring the world's forests to capture carbo...</td>\n",
       "      <td>988</td>\n",
       "      <td>75</td>\n",
       "      <td>C</td>\n",
       "      <td>ngo</td>\n",
       "      <td>NaN</td>\n",
       "      <td>NaN</td>\n",
       "      <td>business</td>\n",
       "      <td>NaN</td>\n",
       "      <td>NaN</td>\n",
       "      <td>0</td>\n",
       "      <td>0</td>\n",
       "    </tr>\n",
       "  </tbody>\n",
       "</table>\n",
       "<p>85 rows × 17 columns</p>\n",
       "</div>"
      ],
      "text/plain": [
       "       twitter_author_id                            name         username  \\\n",
       "13    720013724115861504  William Casey - Casey Beef LLC         Caseyag1   \n",
       "15              16877302                  Dan Pontarlier    danpontarlier   \n",
       "16            2975823401                             NaN           simsa0   \n",
       "20             144437348                     Nikhil Bose            NikzB   \n",
       "23   1117113255581949957                 Deirdre Kincaid  DeirdreKincai15   \n",
       "..                   ...                             ...              ...   \n",
       "291             24233902            National Forest Fdn.  NationalForests   \n",
       "296            260181868                         Natasha      GAPSyndrome   \n",
       "297            571748492               Ronald Chanthunya  RonaldChanthuny   \n",
       "298            181912222                     Leo Hickman       LeoHickman   \n",
       "299  1265123701814517762                  Terraformation        TF_Global   \n",
       "\n",
       "     user_location  verified  \\\n",
       "13    St. Paul, KS         0   \n",
       "15   Paris, France         0   \n",
       "16             NaN         0   \n",
       "20           India         0   \n",
       "23             NaN         0   \n",
       "..             ...       ...   \n",
       "291   Missoula, MT         1   \n",
       "296             UK         0   \n",
       "297         Malawi         0   \n",
       "298            NaN         1   \n",
       "299            NaN         0   \n",
       "\n",
       "                                           description  n_tweets  \\\n",
       "13   It isn’t always being fast, or even accurate, ...     15290   \n",
       "15   I’m here to vent & clapback in 7 languages 🌬 •...     64752   \n",
       "16   I am a dishwasher, cleaner, lavatory attendant...      7995   \n",
       "20   Bringing back the permanence to agriculture in...      1216   \n",
       "23                          Actor, egghead and knitter        35   \n",
       "..                                                 ...       ...   \n",
       "291  We work with the U.S. Forest Service and thous...     33741   \n",
       "296  Gut and Psychology Syndrome (GAPS) - Natural t...     17992   \n",
       "297  Executive Director, Philadephia Foundation Mal...       369   \n",
       "298  Director/editor of @CarbonBrief. Served 16 yea...     58759   \n",
       "299  Restoring the world's forests to capture carbo...       988   \n",
       "\n",
       "     n_cdr_tweets panel user type_x second user type_x  note_x user type_y  \\\n",
       "13              1     A    business                NaN     NaN     unclear   \n",
       "15              2     A  journalism                NaN     NaN     private   \n",
       "16              2     A     unclear                NaN     NaN     private   \n",
       "20              1     A     private                NaN     NaN     unclear   \n",
       "23              1     A     private                NaN     NaN       other   \n",
       "..            ...   ...         ...                ...     ...         ...   \n",
       "291            66     C      policy                NaN     NaN         ngo   \n",
       "296            66     C     unclear                NaN     NaN       other   \n",
       "297            57     C         ngo                NaN     NaN     private   \n",
       "298            83     C  journalism                NaN     NaN     science   \n",
       "299            75     C         ngo                NaN     NaN    business   \n",
       "\n",
       "    second user type_y note_y  match on first  match on second  \n",
       "13                 NaN    NaN               0                0  \n",
       "15                 NaN    NaN               0                0  \n",
       "16                 NaN    NaN               0                0  \n",
       "20                 NaN    NaN               0                0  \n",
       "23                 NaN    NaN               0                0  \n",
       "..                 ...    ...             ...              ...  \n",
       "291                NaN    NaN               0                0  \n",
       "296                NaN    NaN               0                0  \n",
       "297                NaN    NaN               0                0  \n",
       "298                NaN    NaN               0                0  \n",
       "299                NaN    NaN               0                0  \n",
       "\n",
       "[85 rows x 17 columns]"
      ]
     },
     "execution_count": 16,
     "metadata": {},
     "output_type": "execute_result"
    }
   ],
   "source": [
    "comp[comp['match on second'] == 0]"
   ]
  },
  {
   "cell_type": "code",
   "execution_count": 23,
   "id": "034e51df",
   "metadata": {},
   "outputs": [],
   "source": [
    "# export comparison table\n",
    "comp_exp = comp.copy()\n",
    "comp_exp['twitter_author_id'] = comp_exp['twitter_author_id'].astype(int)\n",
    "comp_exp.to_excel('user-type-annotations/random_sample_users_panelABC_comparison_TR_FMH.xlsx')"
   ]
  },
  {
   "cell_type": "code",
   "execution_count": 19,
   "id": "b9cbe84b",
   "metadata": {},
   "outputs": [
    {
     "data": {
      "text/plain": [
       "0.5428199283620971"
      ]
     },
     "execution_count": 19,
     "metadata": {},
     "output_type": "execute_result"
    }
   ],
   "source": [
    "# agreement on the first user type\n",
    "\n",
    "from sklearn import metrics\n",
    "\n",
    "metrics.cohen_kappa_score(comp['user type_x'], comp['user type_y'])"
   ]
  },
  {
   "cell_type": "code",
   "execution_count": 20,
   "id": "ad0bc749",
   "metadata": {},
   "outputs": [],
   "source": [
    "# calculate Cohens kappa with\n",
    "# randhäufigkeiten\n",
    "\n",
    "hi = comp['user type_x'].value_counts().sort_index()\n",
    "hj = comp['user type_y'].value_counts().sort_index()\n",
    "pc = 1 / len(comp)**2 * (hi * hj).sum()"
   ]
  },
  {
   "cell_type": "code",
   "execution_count": 21,
   "id": "f790f132",
   "metadata": {},
   "outputs": [
    {
     "data": {
      "text/plain": [
       "0.542819928362097"
      ]
     },
     "execution_count": 21,
     "metadata": {},
     "output_type": "execute_result"
    }
   ],
   "source": [
    "# test formula for first user type\n",
    "\n",
    "p0 = comp['match on first'].sum() / len(comp)\n",
    "\n",
    "(p0 - pc) / (1 - pc)"
   ]
  },
  {
   "cell_type": "code",
   "execution_count": 22,
   "id": "3cb01197",
   "metadata": {},
   "outputs": [
    {
     "data": {
      "text/plain": [
       "0.6678606317160534"
      ]
     },
     "execution_count": 22,
     "metadata": {},
     "output_type": "execute_result"
    }
   ],
   "source": [
    "# also on the second\n",
    "\n",
    "p0 = comp['match on second'].sum() / len(comp)\n",
    "\n",
    "(p0 - pc) / (1 - pc)"
   ]
  },
  {
   "cell_type": "markdown",
   "id": "36bdac7b",
   "metadata": {},
   "source": [
    "## after resolving disagreements"
   ]
  },
  {
   "cell_type": "code",
   "execution_count": 49,
   "id": "6404349c",
   "metadata": {},
   "outputs": [],
   "source": [
    "res = pd.read_excel('user-type-annotations/random_sample_users_panelABC_comparison_TR_FMH_resolved.xlsx', index_col=0)\n",
    "\n",
    "res['resolved_complete'] = res['resolved']\n",
    "res['resolved_complete'] = res['resolved_complete'].fillna(res['user type_x'])"
   ]
  },
  {
   "cell_type": "code",
   "execution_count": 53,
   "id": "da52531d",
   "metadata": {},
   "outputs": [
    {
     "data": {
      "text/html": [
       "<div>\n",
       "<style scoped>\n",
       "    .dataframe tbody tr th:only-of-type {\n",
       "        vertical-align: middle;\n",
       "    }\n",
       "\n",
       "    .dataframe tbody tr th {\n",
       "        vertical-align: top;\n",
       "    }\n",
       "\n",
       "    .dataframe thead th {\n",
       "        text-align: right;\n",
       "    }\n",
       "</style>\n",
       "<table border=\"1\" class=\"dataframe\">\n",
       "  <thead>\n",
       "    <tr style=\"text-align: right;\">\n",
       "      <th>panel</th>\n",
       "      <th>A</th>\n",
       "      <th>B</th>\n",
       "      <th>C</th>\n",
       "      <th>total_share</th>\n",
       "    </tr>\n",
       "    <tr>\n",
       "      <th>resolved_complete</th>\n",
       "      <th></th>\n",
       "      <th></th>\n",
       "      <th></th>\n",
       "      <th></th>\n",
       "    </tr>\n",
       "  </thead>\n",
       "  <tbody>\n",
       "    <tr>\n",
       "      <th>business</th>\n",
       "      <td>12.0</td>\n",
       "      <td>11.0</td>\n",
       "      <td>10.0</td>\n",
       "      <td>11.000000</td>\n",
       "    </tr>\n",
       "    <tr>\n",
       "      <th>business people</th>\n",
       "      <td>14.0</td>\n",
       "      <td>11.0</td>\n",
       "      <td>12.0</td>\n",
       "      <td>12.333333</td>\n",
       "    </tr>\n",
       "    <tr>\n",
       "      <th>journalism</th>\n",
       "      <td>11.0</td>\n",
       "      <td>14.0</td>\n",
       "      <td>15.0</td>\n",
       "      <td>13.333333</td>\n",
       "    </tr>\n",
       "    <tr>\n",
       "      <th>ngo</th>\n",
       "      <td>6.0</td>\n",
       "      <td>16.0</td>\n",
       "      <td>18.0</td>\n",
       "      <td>13.333333</td>\n",
       "    </tr>\n",
       "    <tr>\n",
       "      <th>other</th>\n",
       "      <td>2.0</td>\n",
       "      <td>2.0</td>\n",
       "      <td>0.0</td>\n",
       "      <td>1.333333</td>\n",
       "    </tr>\n",
       "    <tr>\n",
       "      <th>policy</th>\n",
       "      <td>3.0</td>\n",
       "      <td>4.0</td>\n",
       "      <td>4.0</td>\n",
       "      <td>3.666667</td>\n",
       "    </tr>\n",
       "    <tr>\n",
       "      <th>private</th>\n",
       "      <td>20.0</td>\n",
       "      <td>17.0</td>\n",
       "      <td>13.0</td>\n",
       "      <td>16.666667</td>\n",
       "    </tr>\n",
       "    <tr>\n",
       "      <th>science</th>\n",
       "      <td>8.0</td>\n",
       "      <td>10.0</td>\n",
       "      <td>15.0</td>\n",
       "      <td>11.000000</td>\n",
       "    </tr>\n",
       "    <tr>\n",
       "      <th>unclear</th>\n",
       "      <td>24.0</td>\n",
       "      <td>15.0</td>\n",
       "      <td>13.0</td>\n",
       "      <td>17.333333</td>\n",
       "    </tr>\n",
       "  </tbody>\n",
       "</table>\n",
       "</div>"
      ],
      "text/plain": [
       "panel                 A     B     C  total_share\n",
       "resolved_complete                               \n",
       "business           12.0  11.0  10.0    11.000000\n",
       "business people    14.0  11.0  12.0    12.333333\n",
       "journalism         11.0  14.0  15.0    13.333333\n",
       "ngo                 6.0  16.0  18.0    13.333333\n",
       "other               2.0   2.0   0.0     1.333333\n",
       "policy              3.0   4.0   4.0     3.666667\n",
       "private            20.0  17.0  13.0    16.666667\n",
       "science             8.0  10.0  15.0    11.000000\n",
       "unclear            24.0  15.0  13.0    17.333333"
      ]
     },
     "execution_count": 53,
     "metadata": {},
     "output_type": "execute_result"
    }
   ],
   "source": [
    "vc_res = res.groupby('panel')['resolved_complete'].value_counts().unstack().transpose().fillna(0)\n",
    "vc_res['total_share'] = 100 * vc_res.sum(axis=1) / vc_res.sum().sum()\n",
    "vc_res"
   ]
  },
  {
   "cell_type": "code",
   "execution_count": 54,
   "id": "307e5b39",
   "metadata": {},
   "outputs": [
    {
     "data": {
      "text/plain": [
       "<AxesSubplot:xlabel='panel'>"
      ]
     },
     "execution_count": 54,
     "metadata": {},
     "output_type": "execute_result"
    },
    {
     "data": {
      "image/png": "[encoded data removed]",
      "text/plain": [
       "<Figure size 640x480 with 1 Axes>"
      ]
     },
     "metadata": {},
     "output_type": "display_data"
    }
   ],
   "source": [
    "vc_res[['A', 'B', 'C']].transpose().plot()"
   ]
  },
  {
   "cell_type": "code",
   "execution_count": null,
   "id": "7202636b",
   "metadata": {},
   "outputs": [],
   "source": []
  }
 ],
 "metadata": {
  "kernelspec": {
   "display_name": "Python 3 (ipykernel)",
   "language": "python",
   "name": "python3"
  },
  "language_info": {
   "codemirror_mode": {
    "name": "ipython",
    "version": 3
   },
   "file_extension": ".py",
   "mimetype": "text/x-python",
   "name": "python",
   "nbconvert_exporter": "python",
   "pygments_lexer": "ipython3",
   "version": "3.10.2"
  }
 },
 "nbformat": 4,
 "nbformat_minor": 5
}
